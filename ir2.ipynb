{
 "cells": [
  {
   "cell_type": "markdown",
   "id": "10f7e33c-9f89-46bf-84aa-8ca4d85d774e",
   "metadata": {},
   "source": [
    "<h4>Implement a program for retrieval of documents using inverted files</h4>"
   ]
  },
  {
   "cell_type": "code",
   "execution_count": 13,
   "id": "5551c624-6db1-4bc6-b923-609cce60ad60",
   "metadata": {},
   "outputs": [
    {
     "name": "stdout",
     "output_type": "stream",
     "text": [
      "Query: 'retrieving information',\n",
      "\n",
      "Documents retireved: \n",
      "Dcoument 0: Information retrieval is the process of retrieving relevant information.\n",
      "Dcoument 4: Information retrieval systems are essential for search engines and data mining.\n"
     ]
    }
   ],
   "source": [
    "import nltk\n",
    "from nltk.corpus import stopwords\n",
    "from nltk.tokenize import word_tokenize\n",
    "from nltk.stem import PorterStemmer\n",
    "from collections import defaultdict\n",
    "\n",
    "def preprocess_text(text):\n",
    "    stemmer=PorterStemmer()\n",
    "    stop_words=set(stopwords.words('english'))\n",
    "    words=word_tokenize(text, language='english')\n",
    "    return [stemmer.stem(word) for word in words if word.lower() not in stop_words and word.isalpha()]\n",
    "\n",
    "def build_inverted_index(documents):\n",
    "    inverted_index=defaultdict(list)\n",
    "\n",
    "    for doc_id, doc in enumerate(documents):\n",
    "        preprocessed_words=preprocess_text(doc)\n",
    "        for word in preprocessed_words:\n",
    "            if doc_id not in inverted_index[word]:\n",
    "                inverted_index[word].append(doc_id)\n",
    "    return inverted_index\n",
    "\n",
    "def retrieve_documents(query, inverted_index):\n",
    "    processed_query=preprocess_text(query)\n",
    "    relevant_docs=[]\n",
    "    for word in processed_query:\n",
    "        if word in inverted_index:\n",
    "            relevant_docs.append(set(inverted_index[word]))\n",
    "        else:\n",
    "            return []\n",
    "\n",
    "    result_docs=set.intersection(*relevant_docs)\n",
    "    return list(result_docs)\n",
    "\n",
    "def main():\n",
    "    documents=[\n",
    "    \"Information retrieval is the process of retrieving relevant information.\",\n",
    "    \"Web mining is used to extract useful information from web documents.\",\n",
    "    \"The goal of data mining is to discover patterns in large datasets.\",\n",
    "    \"Retrieving web documents efficiently is a major focus in search engines.\",\n",
    "    \"Information retrieval systems are essential for search engines and data mining.\"\n",
    "    ]\n",
    "    inverted_index=build_inverted_index(documents)\n",
    "    query=\"retrieving information\"\n",
    "    result_docs=retrieve_documents(query, inverted_index)\n",
    "    print(f\"Query: '{query}',\\n\")\n",
    "    print(\"Documents retireved: \")\n",
    "    for doc_id in result_docs:\n",
    "        print(f\"Dcoument {doc_id}: {documents[doc_id]}\")\n",
    "\n",
    "if __name__==\"__main__\":\n",
    "    main()"
   ]
  },
  {
   "cell_type": "code",
   "execution_count": null,
   "id": "0641bab0-44a6-4305-a747-691399df0c90",
   "metadata": {},
   "outputs": [],
   "source": []
  }
 ],
 "metadata": {
  "kernelspec": {
   "display_name": "Python 3 (ipykernel)",
   "language": "python",
   "name": "python3"
  },
  "language_info": {
   "codemirror_mode": {
    "name": "ipython",
    "version": 3
   },
   "file_extension": ".py",
   "mimetype": "text/x-python",
   "name": "python",
   "nbconvert_exporter": "python",
   "pygments_lexer": "ipython3",
   "version": "3.12.3"
  }
 },
 "nbformat": 4,
 "nbformat_minor": 5
}
