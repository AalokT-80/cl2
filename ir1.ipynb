{
 "cells": [
  {
   "cell_type": "markdown",
   "id": "4c3eb5fe-8577-4581-8612-c8cc94a714c7",
   "metadata": {},
   "source": [
    "<h4>Write a program for pre-processing of a text document such as stop word removal, stemming.</h4>"
   ]
  },
  {
   "cell_type": "code",
   "execution_count": 9,
   "id": "72bb7bf0-f187-4b86-987f-d5424203ae6f",
   "metadata": {},
   "outputs": [
    {
     "name": "stdout",
     "output_type": "stream",
     "text": [
      "original text:\n",
      " If you're visiting this page, you're likely here because you're searching for a random sentence. Sometimes a random word just isn't enough, and that is where the random sentence generator comes into play. By inputting the desired number, you can make a list of as many random sentences as you want or need. Producing random sentences can be helpful in a number of different ways.\n",
      "For writers, a random sentence can help them get their creative juices flowing. Since the topic of the sentence is completely unknown, it forces the writer to be creative when the sentence appears. There are a number of different ways a writer can use the random sentence for creativity. The most common way to use the sentence is to begin a story. Another option is to include it somewhere in the story. A much more difficult challenge is to use it to end a story. In any of these cases, it forces the writer to think creatively since they have no idea what sentence will appear from the tool.\n",
      "For those writers who have writers' block, this can be an excellent way to take a step to crumbling those walls. By taking\n",
      "\n",
      "Preprocessed text:\n",
      " visit page like search random sentenc sometim random word enough random sentenc gener come play input desir number make list mani random sentenc want need produc random sentenc help number differ way writer random sentenc help get creativ juic flow sinc topic sentenc complet unknown forc writer creativ sentenc appear number differ way writer use random sentenc creativ common way use sentenc begin stori anoth option includ somewher stori much difficult challeng use end stori case forc writer think creativ sinc idea sentenc appear tool writer writer block excel way take step crumbl wall take\n"
     ]
    }
   ],
   "source": [
    "# !pip install nltk\n",
    "import nltk\n",
    "# nltk.download('punkt')\n",
    "# nltk.download('wordnet')\n",
    "# nltk.download('stopwords')\n",
    "\n",
    "from nltk.corpus import stopwords\n",
    "from nltk.tokenize import word_tokenize\n",
    "from nltk.stem import PorterStemmer\n",
    "\n",
    "def preprocess_text(text):\n",
    "    stemmer=PorterStemmer()\n",
    "    stop_words=set(stopwords.words('english'))\n",
    "    words=word_tokenize(text,language='english')\n",
    "    preprocessed_words=[stemmer.stem(word) for word in words if word.lower() not in stop_words and word.isalpha()]\n",
    "    return ' '.join(preprocessed_words)\n",
    "\n",
    "sample_text=\"\"\"If you're visiting this page, you're likely here because you're searching for a random sentence. Sometimes a random word just isn't enough, and that is where the random sentence generator comes into play. By inputting the desired number, you can make a list of as many random sentences as you want or need. Producing random sentences can be helpful in a number of different ways.\n",
    "For writers, a random sentence can help them get their creative juices flowing. Since the topic of the sentence is completely unknown, it forces the writer to be creative when the sentence appears. There are a number of different ways a writer can use the random sentence for creativity. The most common way to use the sentence is to begin a story. Another option is to include it somewhere in the story. A much more difficult challenge is to use it to end a story. In any of these cases, it forces the writer to think creatively since they have no idea what sentence will appear from the tool.\n",
    "For those writers who have writers' block, this can be an excellent way to take a step to crumbling those walls. By taking\"\"\"\n",
    "\n",
    "preprocessed_text=preprocess_text(sample_text)\n",
    "\n",
    "print(\"original text:\\n\",sample_text)\n",
    "print(\"\\nPreprocessed text:\\n\",preprocessed_text)"
   ]
  },
  {
   "cell_type": "code",
   "execution_count": null,
   "id": "9efa8c59-8c56-4a5d-9a37-eed7eedd1fb0",
   "metadata": {},
   "outputs": [],
   "source": []
  }
 ],
 "metadata": {
  "kernelspec": {
   "display_name": "Python 3 (ipykernel)",
   "language": "python",
   "name": "python3"
  },
  "language_info": {
   "codemirror_mode": {
    "name": "ipython",
    "version": 3
   },
   "file_extension": ".py",
   "mimetype": "text/x-python",
   "name": "python",
   "nbconvert_exporter": "python",
   "pygments_lexer": "ipython3",
   "version": "3.12.3"
  }
 },
 "nbformat": 4,
 "nbformat_minor": 5
}
