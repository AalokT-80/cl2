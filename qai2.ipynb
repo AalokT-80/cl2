{
 "cells": [
  {
   "cell_type": "code",
   "execution_count": 5,
   "id": "4ae52031-2e28-42db-b9a2-c7e3d9b7de8d",
   "metadata": {},
   "outputs": [
    {
     "name": "stdout",
     "output_type": "stream",
     "text": [
      "Original data bits: 1011\n",
      "Encoded bits with parity: [0, 3, 1, 2, 0, 1, 1]\n",
      "Encoded bits after introducing error at position 1: [1, 3, 1, 2, 0, 1, 1]\n",
      "Error detected at position 7. Correcting it.\n",
      "Decoded data bits after error correction: 1010\n"
     ]
    }
   ],
   "source": [
    "import random\n",
    "\n",
    "def calculate_parity_bits(data_bits):\n",
    "    m = len(data_bits)\n",
    "    r = 0\n",
    "    while (2 ** r) < (m + r + 1):\n",
    "        r += 1\n",
    "    return r\n",
    "\n",
    "def hamming_encode(data_bits):\n",
    "    m = len(data_bits)\n",
    "    r = calculate_parity_bits(data_bits)\n",
    "    n = m + r\n",
    "    encoded_bits = []\n",
    "    j = 0  \n",
    "    for i in range(1, n + 1):\n",
    "        if i & (i - 1) == 0:  \n",
    "            encoded_bits.append(0)  \n",
    "        else:\n",
    "            encoded_bits.append(int(data_bits[j]))\n",
    "            j += 1\n",
    "\n",
    "    for i in range(r):\n",
    "        parity_position = (2 ** i) - 1\n",
    "        parity = 0\n",
    "        for j in range(parity_position, n, 2 * (parity_position + 1)):\n",
    "            parity ^= sum(encoded_bits[j:j + parity_position + 1])\n",
    "        encoded_bits[parity_position] = parity\n",
    "\n",
    "    return encoded_bits\n",
    "\n",
    "def introduce_error(encoded_bits):\n",
    "    error_position = random.randint(0, len(encoded_bits) - 1)\n",
    "    encoded_bits[error_position] ^= 1  \n",
    "    return error_position\n",
    "\n",
    "def hamming_decode(encoded_bits):\n",
    "    n = len(encoded_bits)\n",
    "    error_position = 0\n",
    "    for i in range(int.bit_length(n)):\n",
    "        parity_position = (2 ** i) - 1\n",
    "        parity = 0\n",
    "        for j in range(parity_position, n, 2 * (parity_position + 1)):\n",
    "            parity ^= sum(encoded_bits[j:j + parity_position + 1])\n",
    "        if parity != 0:\n",
    "            error_position += parity_position + 1\n",
    "    if error_position > 0:\n",
    "        print(f\"Error detected at position {error_position}. Correcting it.\")\n",
    "        encoded_bits[error_position - 1] ^= 1\n",
    "    else:\n",
    "        print(\"No error detected.\")\n",
    "    data_bits = []\n",
    "    for i in range(1, n + 1):\n",
    "        if not (i & (i - 1) == 0): \n",
    "            data_bits.append(encoded_bits[i - 1])\n",
    "\n",
    "    return data_bits\n",
    "data_bits = \"1011\"  \n",
    "print(\"Original data bits:\", data_bits)\n",
    "\n",
    "encoded_bits = hamming_encode(data_bits)\n",
    "print(\"Encoded bits with parity:\", encoded_bits)\n",
    "\n",
    "error_position = introduce_error(encoded_bits)\n",
    "print(f\"Encoded bits after introducing error at position {error_position + 1}:\", encoded_bits)\n",
    "\n",
    "\n",
    "decoded_data = hamming_decode(encoded_bits)\n",
    "print(\"Decoded data bits after error correction:\", \"\".join(map(str, decoded_data)))\n"
   ]
  },
  {
   "cell_type": "code",
   "execution_count": null,
   "id": "83abd742-eb6d-42cf-a11d-59fa97e797b1",
   "metadata": {},
   "outputs": [],
   "source": []
  }
 ],
 "metadata": {
  "kernelspec": {
   "display_name": "Python 3 (ipykernel)",
   "language": "python",
   "name": "python3"
  },
  "language_info": {
   "codemirror_mode": {
    "name": "ipython",
    "version": 3
   },
   "file_extension": ".py",
   "mimetype": "text/x-python",
   "name": "python",
   "nbconvert_exporter": "python",
   "pygments_lexer": "ipython3",
   "version": "3.11.6"
  }
 },
 "nbformat": 4,
 "nbformat_minor": 5
}
