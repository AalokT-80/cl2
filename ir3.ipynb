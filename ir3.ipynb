{
 "cells": [
  {
   "cell_type": "markdown",
   "id": "7f75e6e4-72f3-4b66-8e67-b91d06491d38",
   "metadata": {},
   "source": [
    "<h4>Implement e-mail spam Filtering using text classification Algorithm with appropriate dataset</h4>"
   ]
  },
  {
   "cell_type": "code",
   "execution_count": 2,
   "id": "75691430-c182-48b3-a71d-197bff0e269e",
   "metadata": {},
   "outputs": [
    {
     "name": "stderr",
     "output_type": "stream",
     "text": [
      "[nltk_data] Downloading package stopwords to\n",
      "[nltk_data]     C:\\Users\\tiwar\\AppData\\Roaming\\nltk_data...\n",
      "[nltk_data]   Package stopwords is already up-to-date!\n"
     ]
    },
    {
     "data": {
      "text/plain": [
       "True"
      ]
     },
     "execution_count": 2,
     "metadata": {},
     "output_type": "execute_result"
    }
   ],
   "source": [
    "import pandas as pd\n",
    "from sklearn.model_selection import train_test_split\n",
    "from sklearn.feature_extraction.text import TfidfVectorizer\n",
    "from sklearn.naive_bayes import MultinomialNB\n",
    "from sklearn.metrics import accuracy_score, precision_score, recall_score, f1_score, confusion_matrix\n",
    "import nltk\n",
    "from nltk.corpus import stopwords\n",
    "import string\n",
    "import re\n",
    "\n",
    "nltk.download(\"stopwords\")"
   ]
  },
  {
   "cell_type": "code",
   "execution_count": 5,
   "id": "a617f778-50dd-4e02-82db-8797e40fdac2",
   "metadata": {},
   "outputs": [
    {
     "name": "stdout",
     "output_type": "stream",
     "text": [
      "Accuracy :  0.9664\n",
      "Precision :  0.9756\n",
      "Recall :  0.9600\n",
      "F1 Score:  0.9677\n",
      "Confusion Matrix: \n",
      "[[7728  210]\n",
      " [ 350 8402]]\n"
     ]
    }
   ],
   "source": [
    "data=pd.read_csv('combined_data.csv')\n",
    "\n",
    "def preprocess_text(text):\n",
    "    text=text.lower()\n",
    "    text=text.translate(str.maketrans('','',string.punctuation))\n",
    "    stop_words=set(stopwords.words('english'))\n",
    "    text=' '.join([word for word in text.split() if word not in stop_words])\n",
    "    text=re.sub(r'\\d+','',text)\n",
    "    return text\n",
    "\n",
    "data['text']=data['text'].apply(preprocess_text)\n",
    "\n",
    "x=data['text']\n",
    "y=data['label']\n",
    "\n",
    "X_train,X_test,y_train,y_test=train_test_split(x,y,test_size=0.2,random_state=42)\n",
    "tfidf_vectorizer=TfidfVectorizer(max_features=5000)\n",
    "\n",
    "X_train_tfidf=tfidf_vectorizer.fit_transform(X_train)\n",
    "X_test_tfidf=tfidf_vectorizer.transform(X_test)\n",
    "\n",
    "model=MultinomialNB()\n",
    "model.fit(X_train_tfidf,y_train)\n",
    "\n",
    "y_pred=model.predict(X_test_tfidf)\n",
    "\n",
    "accuracy=accuracy_score(y_test,y_pred)\n",
    "precision=precision_score(y_test,y_pred)\n",
    "recall=recall_score(y_test,y_pred)\n",
    "f1=f1_score(y_test,y_pred)\n",
    "conf_matrix=confusion_matrix(y_test,y_pred)\n",
    "\n",
    "print(f\"Accuracy : {accuracy : .4f}\")\n",
    "print(f\"Precision : {precision : .4f}\")\n",
    "print(f\"Recall : {recall : .4f}\")\n",
    "print(f\"F1 Score: {f1 : .4f}\")\n",
    "print(\"Confusion Matrix: \")\n",
    "print(conf_matrix)\n",
    "\n"
   ]
  },
  {
   "cell_type": "code",
   "execution_count": null,
   "id": "20406f59-e101-45e5-a336-0176a4721372",
   "metadata": {},
   "outputs": [],
   "source": []
  }
 ],
 "metadata": {
  "kernelspec": {
   "display_name": "Python 3 (ipykernel)",
   "language": "python",
   "name": "python3"
  },
  "language_info": {
   "codemirror_mode": {
    "name": "ipython",
    "version": 3
   },
   "file_extension": ".py",
   "mimetype": "text/x-python",
   "name": "python",
   "nbconvert_exporter": "python",
   "pygments_lexer": "ipython3",
   "version": "3.12.3"
  }
 },
 "nbformat": 4,
 "nbformat_minor": 5
}
