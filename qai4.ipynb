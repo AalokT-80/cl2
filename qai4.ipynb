{
 "cells": [
  {
   "cell_type": "code",
   "execution_count": 1,
   "id": "96d94e44-10e1-4682-a0c7-db34f051ee54",
   "metadata": {},
   "outputs": [
    {
     "name": "stdout",
     "output_type": "stream",
     "text": [
      "Quantum Teleportation Circuit:\n",
      "     ┌─────────────────┐          ┌───┐┌─┐           \n",
      "q_0: ┤ Initialize(0,1) ├───────■──┤ H ├┤M├──────■────\n",
      "     └──────┬───┬──────┘     ┌─┴─┐└┬─┬┘└╥┘      │    \n",
      "q_1: ───────┤ H ├─────────■──┤ X ├─┤M├──╫───■───┼────\n",
      "            └───┘       ┌─┴─┐└───┘ └╥┘  ║ ┌─┴─┐ │ ┌─┐\n",
      "q_2: ───────────────────┤ X ├───────╫───╫─┤ X ├─■─┤M├\n",
      "                        └───┘       ║   ║ └───┘   └╥┘\n",
      "c: 3/═══════════════════════════════╩═══╩══════════╩═\n",
      "                                    1   0          2 \n",
      "\n",
      "Teleported state:\n",
      "{'100': 281, '110': 242, '101': 245, '111': 256}\n"
     ]
    }
   ],
   "source": [
    "from qiskit import QuantumCircuit, transpile\n",
    "from qiskit.visualization import plot_histogram\n",
    "from qiskit_aer import Aer\n",
    "\n",
    "qc = QuantumCircuit(3, 3)\n",
    "\n",
    "qc.initialize([0, 1], 0)\n",
    "\n",
    "qc.h(1)\n",
    "qc.cx(1, 2)\n",
    "\n",
    "qc.cx(0, 1)\n",
    "qc.h(0)\n",
    "\n",
    "qc.measure([0, 1], [0, 1])\n",
    "\n",
    "qc.cx(1, 2)  \n",
    "qc.cz(0, 2)  \n",
    "\n",
    "qc.measure(2, 2)\n",
    "\n",
    "\n",
    "print(\"Quantum Teleportation Circuit:\")\n",
    "print(qc.draw(output='text'))\n",
    "\n",
    "\n",
    "simulator = Aer.get_backend('qasm_simulator')\n",
    "compiled_circuit = transpile(qc, simulator)\n",
    "\n",
    "\n",
    "job = simulator.run(compiled_circuit, shots=1024)\n",
    "result = job.result()\n",
    "\n",
    "counts = result.get_counts(qc)\n",
    "print(\"\\nTeleported state:\")\n",
    "print(counts)\n"
   ]
  },
  {
   "cell_type": "code",
   "execution_count": null,
   "id": "3fa0b9ad-6682-48be-8b95-3114cc0185de",
   "metadata": {},
   "outputs": [],
   "source": []
  }
 ],
 "metadata": {
  "kernelspec": {
   "display_name": "Python 3 (ipykernel)",
   "language": "python",
   "name": "python3"
  },
  "language_info": {
   "codemirror_mode": {
    "name": "ipython",
    "version": 3
   },
   "file_extension": ".py",
   "mimetype": "text/x-python",
   "name": "python",
   "nbconvert_exporter": "python",
   "pygments_lexer": "ipython3",
   "version": "3.11.6"
  }
 },
 "nbformat": 4,
 "nbformat_minor": 5
}
